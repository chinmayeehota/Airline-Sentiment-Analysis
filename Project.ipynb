{
 "cells": [
  {
   "cell_type": "markdown",
   "metadata": {},
   "source": [
    "# US Airline Sentiment Analysis using Twitter Data"
   ]
  },
  {
   "cell_type": "markdown",
   "metadata": {},
   "source": [
    "<b> Project Description</b>\n",
    "\n",
    "<em> Twitter data was scraped from February of 2015 and contributors were asked to classify positive, negative, and neutral tweets.Next we are training our model on this data to classify future tweets into relevant categories.As part of this project we are tokenizing tweets into meaningful words and based on these words we are training our model.</em>"
   ]
  },
  {
   "cell_type": "markdown",
   "metadata": {},
   "source": [
    "# PHASE 1"
   ]
  },
  {
   "cell_type": "code",
   "execution_count": 1,
   "metadata": {
    "collapsed": false
   },
   "outputs": [],
   "source": [
    "%matplotlib inline\n",
    "import numpy as np # linear algebra\n",
    "import pandas as pd # data processing, CSV file I/O (e.g. pd.read_csv)\n",
    "import matplotlib.pyplot as plt\n",
    "import nltk\n",
    "from nltk.corpus import stopwords\n",
    "from sklearn.feature_extraction.text import CountVectorizer\n",
    "import re\n",
    "#nltk.download()\n",
    "data = pd.read_csv('.\\Data\\Tweets.csv')\n",
    "# Data Preprocessing\n",
    "data['text']=data['text'].map(lambda x: re.sub(\"^@[^\\s]+\\s\",\"\",x))\n",
    "def getHashtag(x):\n",
    "    g=re.match(\"^[^#]+#([^\\s]+).*\",x)\n",
    "    if g:\n",
    "        return g.group(1)\n",
    "    else:\n",
    "        return \"\"\n",
    "\n",
    "data['hashtags']=data['text'].map(getHashtag)\n",
    "\n",
    "data['hashtags']=data['hashtags'].str.lower() \n",
    "\n",
    "from nltk.corpus import stopwords\n",
    "def data_preprocess( raw_review ):\n",
    "    # Function for data preprocessing like removing urls, removing special charachters, stop words etc.\n",
    "    review_text = re.sub('((www\\S+)|(http\\S+))',\" \", raw_review)\n",
    "           \n",
    "    letters_only = re.sub(\"[^a-zA-Z]\", \" \", review_text) \n",
    "    \n",
    "    words = letters_only.lower().split()                             \n",
    "    \n",
    "    stops = set(stopwords.words(\"english\"))                  \n",
    "    \n",
    "    meaningful_words = [w for w in words if not w in stops]   \n",
    "    \n",
    "    return( \" \".join(meaningful_words))   \n",
    "\n",
    "Reviews=[]\n",
    "for i in range(0, len(data)):\n",
    "    Reviews.append(data_preprocess(data['text'].tolist()[i]))\n",
    "#print(Reviews)\n",
    "vectorizer = CountVectorizer(min_df=1,stop_words='english')\n",
    "Reviews\n",
    "X = vectorizer.fit_transform(Reviews)\n",
    "#print(X)\n",
    "#print(X.toarray())\n",
    "#print(X.shape)\n",
    "#print(X[1,0:1])\n",
    "vocab = np.array(vectorizer.get_feature_names())"
   ]
  },
  {
   "cell_type": "markdown",
   "metadata": {},
   "source": [
    "# PHASE 2 : Project - Evaluation"
   ]
  },
  {
   "cell_type": "markdown",
   "metadata": {},
   "source": [
    "# PERFORMANCE MEASURE : ACCURACY"
   ]
  },
  {
   "cell_type": "markdown",
   "metadata": {},
   "source": [
    "We have selected Accuracy as our performance measure for various classifiers as we have multiclass problem for which best performance measure we can use is accuracy only. "
   ]
  },
  {
   "cell_type": "code",
   "execution_count": 2,
   "metadata": {
    "collapsed": false
   },
   "outputs": [
    {
     "name": "stdout",
     "output_type": "stream",
     "text": [
      "DATA SHAPE : vectorized 14640 tweets(instances). found 11626 terms(features).\n"
     ]
    }
   ],
   "source": [
    "print('DATA SHAPE : vectorized %d tweets(instances). found %d terms(features).' % (X.shape[0], X.shape[1]))"
   ]
  },
  {
   "cell_type": "code",
   "execution_count": 3,
   "metadata": {
    "collapsed": true
   },
   "outputs": [],
   "source": [
    "from sklearn.model_selection import cross_val_score\n",
    "from sklearn.model_selection import cross_val_predict\n",
    "from sklearn.dummy import DummyClassifier\n",
    "from sklearn.linear_model import LogisticRegression\n",
    "from sklearn.naive_bayes import MultinomialNB\n",
    "from sklearn.tree import DecisionTreeClassifier\n",
    "from sklearn.neural_network import MLPClassifier"
   ]
  },
  {
   "cell_type": "markdown",
   "metadata": {},
   "source": [
    "Baseline : DummyClassifier() "
   ]
  },
  {
   "cell_type": "code",
   "execution_count": 4,
   "metadata": {
    "collapsed": false
   },
   "outputs": [
    {
     "name": "stdout",
     "output_type": "stream",
     "text": [
      "Accuracy for predicting majority class 0.627\n",
      "Accuracy for random prediction 0.460\n"
     ]
    }
   ],
   "source": [
    "base_clf = DummyClassifier(strategy='most_frequent',random_state=0)\n",
    "Acc_Score = cross_val_score(base_clf,X,data['airline_sentiment'], scoring='f1_micro',cv=10)\n",
    "print(\"Accuracy for predicting majority class %0.3f\" % np.mean(Acc_Score))\n",
    "base_clf = DummyClassifier(strategy='stratified',random_state=0)\n",
    "Acc_Score = cross_val_score(base_clf,X,data['airline_sentiment'], scoring='accuracy',cv=10)\n",
    "print(\"Accuracy for random prediction %0.3f\" % np.mean(Acc_Score))"
   ]
  },
  {
   "cell_type": "markdown",
   "metadata": {},
   "source": [
    "# MODEL EVALUATION"
   ]
  },
  {
   "cell_type": "markdown",
   "metadata": {},
   "source": [
    "Model 1 : LogisticRegression"
   ]
  },
  {
   "cell_type": "code",
   "execution_count": 5,
   "metadata": {
    "collapsed": false
   },
   "outputs": [
    {
     "name": "stdout",
     "output_type": "stream",
     "text": [
      "LOGISTIC REGRESSION ACCURACIES FOR VARIOUS EXPERIMENTS:\n",
      "0.762\n",
      "0.757\n",
      "0.762\n",
      "0.737\n",
      "0.761\n",
      "0.739\n",
      "0.762\n",
      "0.689\n",
      "0.754\n"
     ]
    }
   ],
   "source": [
    "Y = data['airline_sentiment']\n",
    "lr_clf = LogisticRegression(random_state = 2)\n",
    "lr_clf.fit(X,Y)\n",
    "#predicted = cross_val_predict(clf,X,Y, cv=10)\n",
    "#print(predicted)\n",
    "print(\"LOGISTIC REGRESSION ACCURACIES FOR VARIOUS EXPERIMENTS:\")\n",
    "Acc_Score = cross_val_score(lr_clf,X,Y, scoring='accuracy',cv=10)\n",
    "print(\"%0.3f\" % np.mean(Acc_Score))\n",
    "lr_clf = LogisticRegression(penalty = 'l2',C=1,solver = 'lbfgs', multi_class = 'multinomial')\n",
    "lr_clf.fit(X,Y)\n",
    "Acc_Score = cross_val_score(lr_clf,X,Y, scoring='accuracy',cv=10)\n",
    "print(\"%0.3f\" % np.mean(Acc_Score))\n",
    "lr_clf = LogisticRegression(penalty = 'l2',C=0.5,solver = 'lbfgs', multi_class = 'multinomial',warm_start=True)\n",
    "lr_clf.fit(X,Y)\n",
    "Acc_Score = cross_val_score(lr_clf,X,Y, scoring='accuracy',cv=10)\n",
    "print(\"%0.3f\" % np.mean(Acc_Score))\n",
    "lr_clf = LogisticRegression(penalty = 'l2',C=10,solver = 'lbfgs', multi_class = 'multinomial')\n",
    "lr_clf.fit(X,Y)\n",
    "Acc_Score = cross_val_score(lr_clf,X,Y, scoring='accuracy',cv=10)\n",
    "print(\"%0.3f\" % np.mean(Acc_Score))\n",
    "lr_clf = LogisticRegression(penalty = 'l2',C=0.5,solver = 'newton-cg', multi_class = 'multinomial')\n",
    "lr_clf.fit(X,Y)\n",
    "Acc_Score = cross_val_score(lr_clf,X,Y, scoring='accuracy',cv=10)\n",
    "print(\"%0.3f\" % np.mean(Acc_Score))\n",
    "lr_clf = LogisticRegression(penalty = 'l2',C=8,solver = 'newton-cg', multi_class = 'multinomial')\n",
    "lr_clf.fit(X,Y)\n",
    "Acc_Score = cross_val_score(lr_clf,X,Y, scoring='accuracy',cv=10)\n",
    "print(\"%0.3f\" % np.mean(Acc_Score))\n",
    "lr_clf = LogisticRegression(penalty = 'l2',C=0.5,solver = 'sag', multi_class = 'multinomial')\n",
    "lr_clf.fit(X,Y)\n",
    "Acc_Score = cross_val_score(lr_clf,X,Y, scoring='accuracy',cv=10)\n",
    "print(\"%0.3f\" % np.mean(Acc_Score))\n",
    "lr_clf = LogisticRegression(penalty = 'l2',C=0.01,solver = 'sag', multi_class = 'multinomial')\n",
    "lr_clf.fit(X,Y)\n",
    "Acc_Score = cross_val_score(lr_clf,X,Y, scoring='accuracy',cv=10)\n",
    "print(\"%0.3f\" % np.mean(Acc_Score))\n",
    "lr_clf = LogisticRegression(penalty = 'l2',C=1.5,solver = 'sag', multi_class = 'multinomial', max_iter = 200)\n",
    "lr_clf.fit(X,Y)\n",
    "Acc_Score = cross_val_score(lr_clf,X,Y, scoring='accuracy',cv=10)\n",
    "print(\"%0.3f\" % np.mean(Acc_Score))"
   ]
  },
  {
   "cell_type": "markdown",
   "metadata": {},
   "source": [
    "Model 2 : MultinomialNB"
   ]
  },
  {
   "cell_type": "code",
   "execution_count": 6,
   "metadata": {
    "collapsed": false
   },
   "outputs": [
    {
     "name": "stdout",
     "output_type": "stream",
     "text": [
      "MULTINOMIAL NB ACCURACIES FOR VARIOUS EXPERIMENTS:\n",
      "0.741\n",
      "0.740\n",
      "0.721\n",
      "0.729\n",
      "0.661\n"
     ]
    }
   ],
   "source": [
    "nb_clf = MultinomialNB()\n",
    "nb_clf.fit(X, Y)\n",
    "print(\"MULTINOMIAL NB ACCURACIES FOR VARIOUS EXPERIMENTS:\")\n",
    "Acc_Score = cross_val_score(nb_clf,X,Y, scoring='accuracy',cv=10)\n",
    "print(\"%0.3f\" % np.mean(Acc_Score))\n",
    "#print(clf.class_count_)\n",
    "#print(clf.feature_count_)\n",
    "nb_clf = MultinomialNB(alpha=0.5)\n",
    "nb_clf.fit(X, Y)\n",
    "Acc_Score = cross_val_score(nb_clf,X,Y, scoring='accuracy',cv=10)\n",
    "print(\"%0.3f\" % np.mean(Acc_Score))\n",
    "nb_clf = MultinomialNB(alpha = 0.5,fit_prior=False)\n",
    "nb_clf.fit(X, Y)\n",
    "Acc_Score = cross_val_score(nb_clf,X,Y, scoring='accuracy',cv=10)\n",
    "print(\"%0.3f\" % np.mean(Acc_Score))\n",
    "nb_clf = MultinomialNB(alpha=0.1)\n",
    "nb_clf.fit(X, Y)\n",
    "Acc_Score = cross_val_score(nb_clf,X,Y, scoring='accuracy',cv=10)\n",
    "print(\"%0.3f\" % np.mean(Acc_Score))\n",
    "nb_clf = MultinomialNB(alpha=10)\n",
    "nb_clf.fit(X, Y)\n",
    "Acc_Score = cross_val_score(nb_clf,X,Y, scoring='accuracy',cv=10)\n",
    "print(\"%0.3f\" % np.mean(Acc_Score))"
   ]
  },
  {
   "cell_type": "markdown",
   "metadata": {},
   "source": [
    "Model 3 : DecisionTree"
   ]
  },
  {
   "cell_type": "code",
   "execution_count": 7,
   "metadata": {
    "collapsed": false
   },
   "outputs": [
    {
     "name": "stdout",
     "output_type": "stream",
     "text": [
      "DECISION TREE ACCURACIES FOR VARIOUS EXPERIMENTS:\n",
      "0.685\n",
      "0.679\n",
      "0.679\n",
      "0.687\n",
      "0.691\n",
      "0.683\n"
     ]
    }
   ],
   "source": [
    "#Setting No Parameters in Decision Tree Classifier\n",
    "dt_clf = DecisionTreeClassifier()\n",
    "dt_clf = dt_clf.fit(X, Y)\n",
    "print(\"DECISION TREE ACCURACIES FOR VARIOUS EXPERIMENTS:\")\n",
    "dt_acc_score = cross_val_score(dt_clf, X, Y , scoring='accuracy', cv=10)\n",
    "print(\"%0.3f\" % np.mean(dt_acc_score))\n",
    "#random_state = 0\n",
    "dt_clf = DecisionTreeClassifier(criterion = \"entropy\")\n",
    "dt_clf = dt_clf.fit(X, Y)\n",
    "dt_acc_score = cross_val_score(dt_clf, X, Y , scoring='accuracy', cv=10)\n",
    "print(\"%0.3f\" % np.mean(dt_acc_score))\n",
    "dt_clf = DecisionTreeClassifier(criterion = \"entropy\", max_features = 2500)\n",
    "dt_clf = dt_clf.fit(X, Y)\n",
    "dt_acc_score = cross_val_score(dt_clf, X, Y , scoring='accuracy', cv=10)\n",
    "print(\"%0.3f\" % np.mean(dt_acc_score))\n",
    "dt_clf = DecisionTreeClassifier(criterion = \"entropy\", splitter = \"random\", max_depth = 15)\n",
    "dt_clf = dt_clf.fit(X, Y)\n",
    "dt_acc_score = cross_val_score(dt_clf, X, Y , scoring='accuracy', cv=10)\n",
    "print(\"%0.3f\" % np.mean(dt_acc_score))\n",
    "dt_clf = DecisionTreeClassifier(criterion = \"gini\", splitter = \"random\", max_depth = 20)\n",
    "dt_clf = dt_clf.fit(X, Y)\n",
    "dt_acc_score = cross_val_score(dt_clf, X, Y , scoring='accuracy', cv=10)\n",
    "print(\"%0.3f\" % np.mean(dt_acc_score))\n",
    "dt_clf = DecisionTreeClassifier(criterion = \"entropy\",  max_depth = 10)\n",
    "dt_clf = dt_clf.fit(X, Y)\n",
    "dt_acc_score = cross_val_score(dt_clf, X, Y , scoring='accuracy', cv=10)\n",
    "print(\"%0.3f\" % np.mean(dt_acc_score))"
   ]
  },
  {
   "cell_type": "markdown",
   "metadata": {},
   "source": [
    "Since The Model With Best Performance Measure Was Logistic Regression With Parameter: random_state = 2, we use this for Predicting Test Data And Finding Top Features For Each Class Label:"
   ]
  },
  {
   "cell_type": "code",
   "execution_count": 8,
   "metadata": {
    "collapsed": false
   },
   "outputs": [
    {
     "name": "stdout",
     "output_type": "stream",
     "text": [
      "ACCURANCY OF BEST MODEL:\n"
     ]
    }
   ],
   "source": [
    "#Chosen Model With Best Performance\n",
    "lr_clf = LogisticRegression(random_state = 2)\n",
    "lr_clf.fit(X,Y)\n",
    "print(\"ACCURANCY OF BEST MODEL:\")\n",
    "Acc_Score = cross_val_score(lr_clf,X,Y, scoring='accuracy',cv=10)"
   ]
  },
  {
   "cell_type": "code",
   "execution_count": 9,
   "metadata": {
    "collapsed": false
   },
   "outputs": [],
   "source": [
    "#Splitting Data For Predicting Target Label\n",
    "#from sklearn.model_selection import train_test_split\n",
    "#X_train, X_test, y_train, y_test = train_test_split(X, Y, test_size=0.33, random_state=42)\n",
    "#lr_clf_pred = LogisticRegression(random_state = 2)\n",
    "#lr_clf_pred.fit(X_train,y_train)\n",
    "#y_pred = lr_clf_pred.predict(X_test)\n",
    "#y_pred = y_pred.toarray()\n",
    "#print(\"Predicted labels are\", y_pred)\n",
    "#print (y_test.astype(np.array))\n",
    "#print(\"Actual labels are\", )\n"
   ]
  },
  {
   "cell_type": "code",
   "execution_count": 10,
   "metadata": {
    "collapsed": false
   },
   "outputs": [
    {
     "name": "stdout",
     "output_type": "stream",
     "text": [
      "top weighted terms for positive class:\n"
     ]
    },
    {
     "data": {
      "text/plain": [
       "[('thank', 3.3030894349474957),\n",
       " ('awesome', 3.1160818253206344),\n",
       " ('excellent', 2.9245982834469455),\n",
       " ('thanks', 2.8090404191408966),\n",
       " ('kudos', 2.6521922550212698),\n",
       " ('amazing', 2.553455131579506),\n",
       " ('great', 2.5506392969808065),\n",
       " ('wonderful', 2.3234464565207706),\n",
       " ('exceptional', 2.203178962889397),\n",
       " ('thx', 2.2018409229666926)]"
      ]
     },
     "execution_count": 10,
     "metadata": {},
     "output_type": "execute_result"
    }
   ],
   "source": [
    "# What are the top weighted features?\n",
    "\n",
    "# Get the learned coefficients for the Positive class.\n",
    "coef = lr_clf.coef_[2]\n",
    "# Sort them in descending order.\n",
    "top_coef_ind = np.argsort(coef)[::-1][:10]\n",
    "# Get the names of those features.\n",
    "top_coef_terms = vocab[top_coef_ind]\n",
    "# Get the weights of those features\n",
    "top_coef = coef[top_coef_ind]\n",
    "# Print the top 10.\n",
    "print('top weighted terms for positive class:')\n",
    "[x for x in zip(top_coef_terms, top_coef)]"
   ]
  },
  {
   "cell_type": "code",
   "execution_count": 11,
   "metadata": {
    "collapsed": false
   },
   "outputs": [
    {
     "name": "stdout",
     "output_type": "stream",
     "text": [
      "top weighted terms for neutral class:\n"
     ]
    },
    {
     "data": {
      "text/plain": [
       "[('hungupnohelp', 1.8175029455304572),\n",
       " ('apple', 1.6053684587693655),\n",
       " ('hi', 1.5983790478535986),\n",
       " ('resolutions', 1.4990238478486217),\n",
       " ('australia', 1.4408634022980562),\n",
       " ('mexico', 1.4273061599504395),\n",
       " ('discounts', 1.4272609002383718),\n",
       " ('anytime', 1.3498770261932362),\n",
       " ('ceo', 1.3407933916221932),\n",
       " ('winter', 1.3358910955288446)]"
      ]
     },
     "execution_count": 11,
     "metadata": {},
     "output_type": "execute_result"
    }
   ],
   "source": [
    "# What are the top weighted features?\n",
    "\n",
    "# Get the learned coefficients for the Neutral class.\n",
    "coef = lr_clf.coef_[1]\n",
    "# Sort them in descending order.\n",
    "top_coef_ind = np.argsort(coef)[::-1][:10]\n",
    "# Get the names of those features.\n",
    "top_coef_terms = vocab[top_coef_ind]\n",
    "# Get the weights of those features\n",
    "top_coef = coef[top_coef_ind]\n",
    "# Print the top 10.\n",
    "print('top weighted terms for neutral class:')\n",
    "[x for x in zip(top_coef_terms, top_coef)]"
   ]
  },
  {
   "cell_type": "code",
   "execution_count": null,
   "metadata": {
    "collapsed": false
   },
   "outputs": [
    {
     "name": "stdout",
     "output_type": "stream",
     "text": [
      "top weighted terms for negative class:\n"
     ]
    },
    {
     "data": {
      "text/plain": [
       "[('worst', 3.4091999520825467),\n",
       " ('ridiculous', 2.3527754645333374),\n",
       " ('fail', 2.1527729410743266),\n",
       " ('disappointed', 2.0916681301544298),\n",
       " ('rude', 2.0605332325537442),\n",
       " ('unacceptable', 2.0434687712633135),\n",
       " ('worse', 2.0416875833448049),\n",
       " ('hrs', 2.0276281913827545),\n",
       " ('terrible', 1.9728353921483781),\n",
       " ('sucks', 1.9203371760627059)]"
      ]
     },
     "execution_count": 12,
     "metadata": {},
     "output_type": "execute_result"
    }
   ],
   "source": [
    "# What are the top weighted features?\n",
    "\n",
    "# Get the learned coefficients for the Negative class.\n",
    "coef = lr_clf.coef_[0]\n",
    "# Sort them in descending order.\n",
    "top_coef_ind = np.argsort(coef)[::-1][:10]\n",
    "# Get the names of those features.\n",
    "top_coef_terms = vocab[top_coef_ind]\n",
    "# Get the weights of those features\n",
    "top_coef = coef[top_coef_ind]\n",
    "# Print the top 10.\n",
    "print('top weighted terms for negative class:')\n",
    "[x for x in zip(top_coef_terms, top_coef)]"
   ]
  },
  {
   "cell_type": "code",
   "execution_count": null,
   "metadata": {
    "collapsed": false
   },
   "outputs": [],
   "source": [
    "mlp_clf = MLPClassifier(random_state=2)\n",
    "mlp_clf = mlp_clf.fit(X,Y)\n",
    "mlp_acc_score = cross_val_score(mlp_clf, X, Y, cv=5, scoring='accuracy')\n",
    "print(\"%0.3f\" % np.mean(mlp_acc_score))"
   ]
  }
 ],
 "metadata": {
  "anaconda-cloud": {},
  "kernelspec": {
   "display_name": "Python [default]",
   "language": "python",
   "name": "python3"
  },
  "language_info": {
   "codemirror_mode": {
    "name": "ipython",
    "version": 3
   },
   "file_extension": ".py",
   "mimetype": "text/x-python",
   "name": "python",
   "nbconvert_exporter": "python",
   "pygments_lexer": "ipython3",
   "version": "3.5.2"
  }
 },
 "nbformat": 4,
 "nbformat_minor": 1
}
